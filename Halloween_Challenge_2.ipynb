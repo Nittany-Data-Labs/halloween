{
  "nbformat": 4,
  "nbformat_minor": 0,
  "metadata": {
    "colab": {
      "provenance": [],
      "collapsed_sections": [],
      "authorship_tag": "ABX9TyM2KaWgQGORlERdKR0TXYYo",
      "include_colab_link": true
    },
    "kernelspec": {
      "name": "python3",
      "display_name": "Python 3"
    },
    "language_info": {
      "name": "python"
    }
  },
  "cells": [
    {
      "cell_type": "markdown",
      "metadata": {
        "id": "view-in-github",
        "colab_type": "text"
      },
      "source": [
        "<a href=\"https://colab.research.google.com/github/Nittany-Data-Labs/halloween/blob/main/Halloween_Challenge_2.ipynb\" target=\"_parent\"><img src=\"https://colab.research.google.com/assets/colab-badge.svg\" alt=\"Open In Colab\"/></a>"
      ]
    },
    {
      "cell_type": "markdown",
      "source": [
        "# Challenge 2\n",
        "The goal of this challenge is to work on web scraping in Python with BeautifulSoup"
      ],
      "metadata": {
        "id": "6Mi6B0H-TUnj"
      }
    },
    {
      "cell_type": "markdown",
      "source": [
        "# Packages"
      ],
      "metadata": {
        "id": "gNM7ZGys1f6X"
      }
    },
    {
      "cell_type": "code",
      "source": [
        "!pip install beautifulsoup4"
      ],
      "metadata": {
        "colab": {
          "base_uri": "https://localhost:8080/"
        },
        "id": "HI3S-Bto91l5",
        "outputId": "a22fc5b8-f16c-47e3-ed47-5df535f1156f"
      },
      "execution_count": 14,
      "outputs": [
        {
          "output_type": "stream",
          "name": "stdout",
          "text": [
            "Looking in indexes: https://pypi.org/simple, https://us-python.pkg.dev/colab-wheels/public/simple/\n",
            "Requirement already satisfied: beautifulsoup4 in /usr/local/lib/python3.7/dist-packages (4.6.3)\n"
          ]
        }
      ]
    },
    {
      "cell_type": "code",
      "source": [
        "from bs4 import BeautifulSoup\n",
        "import json\n",
        "import requests\n",
        "import pandas as pd\n",
        "import matplotlib.pyplot as plt\n",
        "import numpy as np"
      ],
      "metadata": {
        "id": "SXOqXw_m1kWr"
      },
      "execution_count": 15,
      "outputs": []
    },
    {
      "cell_type": "markdown",
      "source": [
        "# Get Data\n",
        "Option 1:\n",
        "1.   Use the function ```get_soup``` to parse the websites\n",
        "2.   Parse the data to find all the tables\n",
        "3.   Create tables\n",
        "\n",
        "Option 2:\n",
        "use ```find_tables```\n",
        "This will be easier if you do not have experience parsing html\n",
        "\n",
        "[Guide to parsing with BeautifulSoup](https://medium.com/geekculture/web-scraping-tables-in-python-using-beautiful-soup-8bbc31c5803e)"
      ],
      "metadata": {
        "id": "7pb9fIhI11hd"
      }
    },
    {
      "cell_type": "code",
      "source": [
        "def get_soup(url):\n",
        "  webpage = requests.get(url).text\n",
        "  soup = BeautifulSoup(webpage, \"html.parser\")\n",
        "  return soup\n",
        "\n",
        "def find_tables(url, htmlclass = 'wikitable sortable'):\n",
        "  df_lst = pd.read_html(url, attrs = {'class': htmlclass},  flavor='bs4', thousands =',')\n",
        "  return df_lst"
      ],
      "metadata": {
        "id": "aINaR6TF48tG"
      },
      "execution_count": 18,
      "outputs": []
    },
    {
      "cell_type": "markdown",
      "source": [
        "## Candy Manufacturers\n",
        "https://en.wikipedia.org/wiki/List_of_bean-to-bar_chocolate_manufacturers"
      ],
      "metadata": {
        "id": "uyhOc6fS59AN"
      }
    },
    {
      "cell_type": "code",
      "source": [
        "url = \"https://en.wikipedia.org/wiki/List_of_bean-to-bar_chocolate_manufacturers\"\n",
        "\n",
        "#your code starts here"
      ],
      "metadata": {
        "id": "ZrJLuM8Y51_O"
      },
      "execution_count": 31,
      "outputs": []
    },
    {
      "cell_type": "markdown",
      "source": [
        "## Candy around the world\n",
        "https://en.wikipedia.org/wiki/List_of_candies"
      ],
      "metadata": {
        "id": "GvU3KdRj6Iag"
      }
    },
    {
      "cell_type": "code",
      "source": [
        "url = \"https://en.wikipedia.org/wiki/List_of_candies\"\n",
        "\n",
        "#your code starts here"
      ],
      "metadata": {
        "id": "QeFjFSAP6f9y"
      },
      "execution_count": 32,
      "outputs": []
    },
    {
      "cell_type": "markdown",
      "source": [
        "# Merge data\n",
        "Join the two datasets with pandas\n",
        "\n",
        "[Guide](https://pandas.pydata.org/pandas-docs/stable/user_guide/merging.html)"
      ],
      "metadata": {
        "id": "LnjYqFqI3Zyt"
      }
    },
    {
      "cell_type": "code",
      "source": [
        "#your code starts here"
      ],
      "metadata": {
        "id": "YDmDBsKQ43LP"
      },
      "execution_count": null,
      "outputs": []
    },
    {
      "cell_type": "markdown",
      "source": [
        "# Analysis and Visual\n",
        "Create a data visual that represents your data\n",
        "\n",
        "challenge: [Try to make a timeline](https://matplotlib.org/stable/gallery/lines_bars_and_markers/timeline.html) or [another example](https://dadoverflow.com/2021/08/17/making-timelines-with-python/)"
      ],
      "metadata": {
        "id": "i9a6OLA_D5ne"
      }
    },
    {
      "cell_type": "code",
      "source": [],
      "metadata": {
        "id": "iozuQCY-E8q2"
      },
      "execution_count": null,
      "outputs": []
    }
  ]
}