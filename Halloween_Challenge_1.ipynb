{
  "nbformat": 4,
  "nbformat_minor": 0,
  "metadata": {
    "colab": {
      "provenance": [],
      "collapsed_sections": [],
      "toc_visible": true,
      "authorship_tag": "ABX9TyPVnwc5pQBHMFszkY1B67OG",
      "include_colab_link": true
    },
    "kernelspec": {
      "name": "python3",
      "display_name": "Python 3"
    },
    "language_info": {
      "name": "python"
    }
  },
  "cells": [
    {
      "cell_type": "markdown",
      "metadata": {
        "id": "view-in-github",
        "colab_type": "text"
      },
      "source": [
        "<a href=\"https://colab.research.google.com/github/Nittany-Data-Labs/halloween/blob/main/Halloween_Challenge_1.ipynb\" target=\"_parent\"><img src=\"https://colab.research.google.com/assets/colab-badge.svg\" alt=\"Open In Colab\"/></a>"
      ]
    },
    {
      "cell_type": "markdown",
      "source": [
        "# Challenge 1\n",
        "The goal of this challenge is to further explore Pandas and matplotlib"
      ],
      "metadata": {
        "id": "N8JxV-2WSglN"
      }
    },
    {
      "cell_type": "markdown",
      "source": [
        "# Import Packages"
      ],
      "metadata": {
        "id": "kKSL9KBoUrxB"
      }
    },
    {
      "cell_type": "code",
      "execution_count": 8,
      "metadata": {
        "id": "oFMeUPZIIuct"
      },
      "outputs": [],
      "source": [
        "import pandas as pd\n",
        "import matplotlib.pyplot as plt\n",
        "import numpy as np"
      ]
    },
    {
      "cell_type": "markdown",
      "source": [
        "# Collect Data"
      ],
      "metadata": {
        "id": "jtfp_UHBXbii"
      }
    },
    {
      "cell_type": "markdown",
      "source": [
        "## Candy\n",
        "For more information about the dataset, it is from [Kaggle](https://www.kaggle.com/datasets/fivethirtyeight/the-ultimate-halloween-candy-power-ranking)"
      ],
      "metadata": {
        "id": "p2qoXn8Yw6EJ"
      }
    },
    {
      "cell_type": "code",
      "source": [
        "candy = pd.read_csv(\"https://raw.githubusercontent.com/Nittany-Data-Labs/halloween/main/data/candy-data.csv?token=GHSAT0AAAAAABYFLCOKLY7RD7HSCTAFSMV2Y2TESAA\")"
      ],
      "metadata": {
        "id": "QCKiKsPbXd8M"
      },
      "execution_count": 9,
      "outputs": []
    },
    {
      "cell_type": "markdown",
      "source": [
        "## Movie\n",
        "For more information about the dataset, it is from [Kaggle](https://www.kaggle.com/datasets/PromptCloudHQ/imdb-horror-movie-dataset)"
      ],
      "metadata": {
        "id": "mf27TOFpzbbP"
      }
    },
    {
      "cell_type": "code",
      "source": [
        "movie = pd.read_csv(\"https://raw.githubusercontent.com/Nittany-Data-Labs/halloween/main/data/IMDB%20Horror%20movies.csv?token=GHSAT0AAAAAABYFLCOKPKDQB4OUOQFPAMJSY2TEVPQ\")"
      ],
      "metadata": {
        "id": "OVYL0SLmzgRS"
      },
      "execution_count": 10,
      "outputs": []
    },
    {
      "cell_type": "markdown",
      "source": [
        "# Data Exploration"
      ],
      "metadata": {
        "id": "s_U3tboKVcaL"
      }
    },
    {
      "cell_type": "markdown",
      "source": [
        "## Number of Rows & Columns\n",
        "This is often called the **shape** of a dataframe\n",
        "* Is there a feature called \"shape\" for pandas?\n",
        "* What is the result of len(df)?"
      ],
      "metadata": {
        "id": "1mDjOcvd0TiS"
      }
    },
    {
      "cell_type": "code",
      "source": [
        "#Candy\n"
      ],
      "metadata": {
        "id": "OclGttAFVkDj"
      },
      "execution_count": null,
      "outputs": []
    },
    {
      "cell_type": "code",
      "source": [
        "#movie\n"
      ],
      "metadata": {
        "id": "V2slnO_u0qDE"
      },
      "execution_count": null,
      "outputs": []
    },
    {
      "cell_type": "markdown",
      "source": [
        "## Looking at rows\n",
        "When working with large datasets, you do not want to call the whole dataframe"
      ],
      "metadata": {
        "id": "ySejslJf4xgP"
      }
    },
    {
      "cell_type": "markdown",
      "source": [
        "### Head\n",
        "* What happens when you use df.head()? \n",
        "* Try putting a number in: df.head(6)\n",
        "* How do you produce the top row?\n",
        "\n"
      ],
      "metadata": {
        "id": "1kwTOnK75DVs"
      }
    },
    {
      "cell_type": "code",
      "source": [
        "#candy\n"
      ],
      "metadata": {
        "id": "QRf4mn6B7LZ1"
      },
      "execution_count": null,
      "outputs": []
    },
    {
      "cell_type": "code",
      "source": [
        "#movie\n"
      ],
      "metadata": {
        "id": "7C73ztmj7MyR"
      },
      "execution_count": null,
      "outputs": []
    },
    {
      "cell_type": "markdown",
      "source": [
        "### Tail\n",
        "* What happens when you use df.tail()? \n",
        "* Try putting a number in: df.tail(6)\n",
        "* How do you produce the last row?\n"
      ],
      "metadata": {
        "id": "0rPQ9_2b5GeD"
      }
    },
    {
      "cell_type": "code",
      "source": [
        "#candy"
      ],
      "metadata": {
        "id": "CQcK-Igs7epM"
      },
      "execution_count": null,
      "outputs": []
    },
    {
      "cell_type": "code",
      "source": [
        "#movie"
      ],
      "metadata": {
        "id": "mGgwS5ZW7hOa"
      },
      "execution_count": null,
      "outputs": []
    },
    {
      "cell_type": "markdown",
      "source": [
        "## More Information\n",
        "Is there a way to get more **INFO** about a dataframe using pandas?"
      ],
      "metadata": {
        "id": "M5i-8o5M28pF"
      }
    },
    {
      "cell_type": "code",
      "source": [
        "#candy\n"
      ],
      "metadata": {
        "id": "xsM0IPga3n1r"
      },
      "execution_count": null,
      "outputs": []
    },
    {
      "cell_type": "code",
      "source": [
        "#movie\n"
      ],
      "metadata": {
        "id": "w9EmpsIv3tiq"
      },
      "execution_count": null,
      "outputs": []
    },
    {
      "cell_type": "markdown",
      "source": [
        "## Describe\n",
        "Try using df.describe()\n",
        "\n",
        "Does this make sense to use on our data?"
      ],
      "metadata": {
        "id": "Hf_gDU394LXW"
      }
    },
    {
      "cell_type": "code",
      "source": [
        "#candy"
      ],
      "metadata": {
        "id": "-DiIBOmV4Kzw"
      },
      "execution_count": null,
      "outputs": []
    },
    {
      "cell_type": "code",
      "source": [
        "#movie"
      ],
      "metadata": {
        "id": "kgRa5cKJ7l3g"
      },
      "execution_count": null,
      "outputs": []
    },
    {
      "cell_type": "markdown",
      "source": [
        "## NA Values\n",
        "Get the number of NA values for a column\n",
        "```\n",
        "df['column name'].isna().sum()\n",
        "```\n",
        "\n",
        "Get results for the whole dataframe\n",
        "```\n",
        "df.isna().sum()\n",
        "```"
      ],
      "metadata": {
        "id": "hm8f8pFP7w-Y"
      }
    },
    {
      "cell_type": "code",
      "source": [
        "#candy"
      ],
      "metadata": {
        "id": "SMELERC8k9hV"
      },
      "execution_count": 7,
      "outputs": []
    },
    {
      "cell_type": "code",
      "source": [
        "#movie"
      ],
      "metadata": {
        "id": "QQqUudbG7wfL"
      },
      "execution_count": 6,
      "outputs": []
    },
    {
      "cell_type": "markdown",
      "source": [
        "# Data Wrangling\n",
        "Clean and re-label data as needed\n",
        "\n",
        "If you removed or mutated any data values redo the summary process"
      ],
      "metadata": {
        "id": "sXAHWpQMUypp"
      }
    },
    {
      "cell_type": "markdown",
      "source": [
        "## Get column names"
      ],
      "metadata": {
        "id": "-LmvJqz_745t"
      }
    },
    {
      "cell_type": "code",
      "source": [
        "#candy"
      ],
      "metadata": {
        "id": "CydG5ctU87g8"
      },
      "execution_count": null,
      "outputs": []
    },
    {
      "cell_type": "code",
      "source": [
        "#movie"
      ],
      "metadata": {
        "id": "k6ywgp6-9Bxp"
      },
      "execution_count": null,
      "outputs": []
    },
    {
      "cell_type": "markdown",
      "source": [
        "## Rename columns \n",
        "Not always required, but it is important to check. You want useful and short column names. Rename as needed\n",
        "* avoid long column names\n",
        "* avoid column names with spaces"
      ],
      "metadata": {
        "id": "y0vklsrl8diJ"
      }
    },
    {
      "cell_type": "code",
      "source": [
        "#candy"
      ],
      "metadata": {
        "id": "OmucuRXTWJZs"
      },
      "execution_count": null,
      "outputs": []
    },
    {
      "cell_type": "code",
      "source": [
        "#movie"
      ],
      "metadata": {
        "id": "Bx4LqUEl9GqA"
      },
      "execution_count": null,
      "outputs": []
    },
    {
      "cell_type": "markdown",
      "source": [
        "# Analysis\n",
        "Your analysis should accurately represent the data and work towards answering a question. "
      ],
      "metadata": {
        "id": "rgH2w__HVloW"
      }
    },
    {
      "cell_type": "markdown",
      "source": [
        "## Sort Values\n",
        "Can you **sort values** in a dataframe?"
      ],
      "metadata": {
        "id": "PLNdIxWm9rza"
      }
    },
    {
      "cell_type": "code",
      "source": [
        "#candy"
      ],
      "metadata": {
        "id": "EyGO6piX9usg"
      },
      "execution_count": 13,
      "outputs": []
    },
    {
      "cell_type": "code",
      "source": [
        "#movie"
      ],
      "metadata": {
        "id": "RyvTwYhx9vtH"
      },
      "execution_count": null,
      "outputs": []
    },
    {
      "cell_type": "markdown",
      "source": [
        "## Further analysis\n",
        "What question are you trying to answer? \n",
        "\n",
        "For example how does the budget impact the rating for the movie?"
      ],
      "metadata": {
        "id": "l_MAvNk68mGz"
      }
    },
    {
      "cell_type": "markdown",
      "source": [
        "# Findings\n",
        "A data scientist must be able to translate their findings. Typically you must translate your findings to non-technical individuals. Data visuals can help with this process. Use matlpotlib to create a visual of your findings"
      ],
      "metadata": {
        "id": "jWGjRt3k6psp"
      }
    },
    {
      "cell_type": "code",
      "source": [
        "#candy"
      ],
      "metadata": {
        "id": "Fwnux_Zg6vBF"
      },
      "execution_count": null,
      "outputs": []
    },
    {
      "cell_type": "code",
      "source": [
        "#movie"
      ],
      "metadata": {
        "id": "myzUZekI6wvO"
      },
      "execution_count": null,
      "outputs": []
    }
  ]
}